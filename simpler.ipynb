{
 "cells": [
  {
   "cell_type": "code",
   "execution_count": 1,
   "metadata": {},
   "outputs": [
    {
     "name": "stderr",
     "output_type": "stream",
     "text": [
      "Using TensorFlow backend.\n"
     ]
    }
   ],
   "source": [
    "import os\n",
    "import time\n",
    "from IPython.display import clear_output\n",
    "\n",
    "import numpy as np\n",
    "import pandas as pd\n",
    "import matplotlib.pyplot as plt\n",
    "\n",
    "import tensorflow as tf\n",
    "import keras.backend as K\n",
    "from keras.models import Sequential\n",
    "from keras.layers import Lambda, Dense, Dropout"
   ]
  },
  {
   "cell_type": "markdown",
   "metadata": {},
   "source": [
    "## General\n",
    "\n",
    "$L(x) = - \\log{\\frac{\\sum_j p_j f_j(x)}{\\sum_j p_j}}$\n",
    "\n",
    "$f_i(x) = \\frac{1}{\\sqrt{2 \\pi \\sigma_i^2}} e^{-\\frac{(x-\\mu_i)^2}{2\\sigma_i^2}}$\n",
    "\n",
    ":$\\frac{\\partial L(x)}{\\partial f_i(x)} = -\\frac{p_i}{\\sum_j p_j f_j(x)}$"
   ]
  },
  {
   "cell_type": "markdown",
   "metadata": {},
   "source": [
    "## alpha - mu\n",
    "\n",
    ":$\\frac{\\partial L(x)}{\\partial \\alpha_i} = \\frac{\\partial L(x)}{\\partial f_i(x)} \\frac{\\partial f_i(x)}{\\partial \\mu_i} \\frac{\\partial \\mu_i}{\\partial \\alpha_i}$\n",
    "\n",
    "$\\frac{\\partial f_i(x)}{\\partial \\mu_i} = \\frac{x - \\mu_i}{\\sigma_i^3 \\sqrt{2 \\pi}} e^{-\\frac{(x-\\mu_i)^2}{2\\sigma_i^2}}$\n",
    "\n",
    "$\\frac{\\partial f_i(x)}{\\partial \\mu_i} = \\frac{1}{\\sqrt{2 \\pi \\sigma_i^2}} \\frac{x - \\mu_i}{\\sigma_i^2} e^{-\\frac{(x-\\mu_i)^2}{2\\sigma_i^2}}$\n",
    "\n",
    ":$\\frac{\\partial f_i(x)}{\\partial \\mu_i} = \\frac{x - \\mu_i}{\\sigma_i^2} f_i(x)$\n",
    "\n",
    "$\\mu_i = \\text{sigmoid}(\\alpha_i) (\\mu_{max} - \\mu_{min}) + \\mu_{min}$\n",
    "\n",
    ":$\\frac{\\partial \\mu_i}{\\partial \\alpha_i} = \\frac{e^{-\\alpha_i}}{(e^{-\\alpha_i} + 1)^2} (\\mu_{max} - \\mu_{min})$"
   ]
  },
  {
   "cell_type": "markdown",
   "metadata": {},
   "source": [
    "## beta - sigma\n",
    "\n",
    ":$\\frac{\\partial L(x)}{\\partial \\beta_i} = \\frac{\\partial L(x)}{\\partial f_i(x)} \\frac{\\partial f_i(x)}{\\partial \\sigma_i} \\frac{\\partial \\sigma_i}{\\partial \\beta_i}$\n",
    "\n",
    "$\\frac{\\partial f_i(x)}{\\partial \\sigma_i} = \\frac{(x - \\mu_i)^2 - \\sigma^2}{\\sqrt{2 \\pi} \\sigma^4}e^{\\frac{(x - \\mu_i)^2}{2\\sigma^2}}$\n",
    "\n",
    ":$\\frac{\\partial f_i(x)}{\\partial \\sigma_i} = \\frac{(x - \\mu_i)^2 - \\sigma^2}{\\sigma^3} f_i(x)$\n",
    "\n",
    "$\\sigma_i = \\text{sigmoid}(\\beta_i) (\\sigma_{max} - \\sigma_{min}) + \\sigma_{min}$\n",
    "\n",
    ":$\\frac{\\partial \\sigma_i}{\\partial \\beta_i} = \\frac{e^{-\\beta_i}}{(e^{-\\beta_i} + 1)^2} (\\sigma_{max} - \\sigma_{min})$"
   ]
  },
  {
   "cell_type": "markdown",
   "metadata": {},
   "source": [
    "## gamma - p\n",
    "\n",
    ":$\\frac{\\partial L(x)}{\\partial \\gamma_i} = \\frac{\\partial L(x)}{\\partial p_i} \\frac{\\partial p_i}{\\partial \\gamma_i}$\n",
    "\n",
    "$\\frac{\\partial L(x)}{\\partial p_i} = -\\frac{\\frac{f_i(x) \\sum_{k \\neq i} p_k}{(\\sum_j p_j)^2} - \\frac{\\sum_{k \\neq i} p_k f_k(x)}{\\sum_j p_j}}{\\sum_j p_j f_j(x) / \\sum_j p_j}$\n",
    "\n",
    "$\\frac{\\partial L(x)}{\\partial p_i} = -\\frac{f_i(x) \\sum_{k \\neq i} p_k - \\sum_j p_j \\sum_{k \\neq i} p_k f_k(x)}{\\sum_j p_j \\sum_j p_j f_j(x)}$\n",
    "\n",
    "Assuming $\\sum_j p_j = 1$:\n",
    "\n",
    "$\\frac{\\partial L(x)}{\\partial p_i} = \\frac{- f_i(x) (1 - p_j) + \\sum_{k \\neq i} p_k f_k(x)}{\\sum_j p_j f_j(x)}$\n",
    "\n",
    "$\\frac{\\partial L(x)}{\\partial p_i} = \\frac{-f_i(x) + \\sum_{j} p_j f_j(x)}{\\sum_j p_j f_j(x)}$\n",
    "\n",
    "$p_i = \\text{sigmoid}(\\gamma_i) (p_{max} - p_{min}) + p_{min}$\n",
    "\n",
    ":$\\frac{\\partial p_i}{\\partial \\gamma_i} = \\frac{e^{-\\gamma_i}}{(e^{-\\gamma_i} + 1)^2} (p_{max} - p_{min})$\n",
    "\n",
    ":::$\\frac{\\partial L(x)}{\\partial \\gamma_i} = \\frac{- f_i(x) (1 - p_j) + \\sum_{k \\neq i} p_k f_k(x)}{f_j(x)} \\frac{e^{-\\gamma_i}}{(e^{-\\gamma_i} + 1)^2} (p_{max} - p_{min})$"
   ]
  },
  {
   "cell_type": "markdown",
   "metadata": {},
   "source": [
    "# Data Processing"
   ]
  },
  {
   "cell_type": "code",
   "execution_count": 2,
   "metadata": {},
   "outputs": [
    {
     "name": "stderr",
     "output_type": "stream",
     "text": [
      "C:\\Users\\Aaron\\Anaconda3\\envs\\cs141\\lib\\site-packages\\ipykernel_launcher.py:5: SettingWithCopyWarning: \n",
      "A value is trying to be set on a copy of a slice from a DataFrame\n",
      "\n",
      "See the caveats in the documentation: http://pandas.pydata.org/pandas-docs/stable/indexing.html#indexing-view-versus-copy\n",
      "  \"\"\"\n"
     ]
    }
   ],
   "source": [
    "files = os.listdir('data/good_zipcodes')\n",
    "filename = '91108.csv'#np.random.choice(files)\n",
    "df = pd.read_csv('data/good_zipcodes/' + filename)\n",
    "\n",
    "df.TotalLandImpValue[df.TotalLandImpValue < 1] = 1\n",
    "\n",
    "normalizer = df.TotalLandImpValue.mean()\n",
    "df.TotalLandImpValue /= normalizer"
   ]
  },
  {
   "cell_type": "code",
   "execution_count": 3,
   "metadata": {
    "collapsed": true
   },
   "outputs": [],
   "source": [
    "def pdf(x, mu, sig):\n",
    "    return np.exp(-(x-mu)**2/(2*sig**2))/((2*np.pi)**.5*sig)"
   ]
  },
  {
   "cell_type": "code",
   "execution_count": 4,
   "metadata": {
    "collapsed": true
   },
   "outputs": [],
   "source": [
    "# Convert a parameter to its sigmoid representation.\n",
    "def to_sigmoid(param, param_max, param_min):\n",
    "    norm = (param - param_min) / (param_max - param_min)\n",
    "    return np.log(norm / (1 - norm))\n",
    "\n",
    "# Convert a sigmoid representation to a parameter.\n",
    "def from_sigmoid(param, param_max, param_min):\n",
    "    return 1 / (1 + np.exp(-param)) * (param_max - param_min) + param_min"
   ]
  },
  {
   "cell_type": "code",
   "execution_count": 5,
   "metadata": {
    "collapsed": true
   },
   "outputs": [],
   "source": [
    "def update(x, mu, sig, p,\n",
    "           eta_p=1e-1, eta_mu=1e-1, eta_sig=1e-1,\n",
    "           max_mu=1e2, min_mu=1e-2,\n",
    "           max_sig=1e2, min_sig=1e-2,\n",
    "           max_p=1e2, min_p=1e-2):\n",
    "    \n",
    "    # Apply logit to the input variables to get their sigmoid params.\n",
    "    alpha = to_sigmoid(mu, max_mu, min_mu)\n",
    "    beta = to_sigmoid(sig, max_sig, min_sig)\n",
    "    gamma = to_sigmoid(p, max_p, min_p)\n",
    "   \n",
    "    # Calculate d Loss / d ProbabilityDensityFunction\n",
    "    f = pdf(x, mu, sig)\n",
    "    f_mean = np.sum(p * f, axis=1, keepdims=True)\n",
    "    dL_df = - p / f_mean\n",
    "\n",
    "    # Calculate d ProbabilityDensityFunction / d (parameter)\n",
    "    df_dmu = (x - mu) / sig ** 2 * f\n",
    "    df_dsig = ((x - mu) ** 2 - sig ** 2) / sig ** 3 * f\n",
    "    \n",
    "    # Calculate d (parameter) / d (logit(parameter))\n",
    "    g = lambda x: np.exp(-x) / (1 + np.exp(-x)) ** 2\n",
    "    dmu_dalpha = g(alpha) * (max_mu - min_mu)\n",
    "    dsig_dbeta = g(beta) * (max_sig - min_sig)\n",
    "    dp_dgamma = g(gamma) * (max_p - min_p)\n",
    "    \n",
    "    # Calculate d Loss / d (parameter)\n",
    "    dL_dp = (f_mean - f) / f_mean\n",
    "    \n",
    "    # Calculate d Loss / d (logit(parameter))\n",
    "    dL_dalpha = dL_df * df_dmu * dmu_dalpha\n",
    "    dL_dbeta = dL_df * df_dsig * dsig_dbeta\n",
    "    dL_dgamma = dL_dp * dp_dgamma\n",
    "    \n",
    "    # Calculate logit(parameter)\n",
    "    alpha -= eta_mu * np.mean(dL_dalpha, axis=0)\n",
    "    beta -= eta_sig * np.mean(dL_dbeta, axis=0)\n",
    "    gamma -= eta_p * np.mean(dL_dgamma, axis=0)\n",
    "    \n",
    "    # Calculate parameter\n",
    "    new_mu = from_sigmoid(alpha, max_mu, min_mu)\n",
    "    new_sig = from_sigmoid(beta, max_sig, min_sig)\n",
    "    new_p = from_sigmoid(gamma, max_p, min_p)\n",
    "    \n",
    "    # Normalize the probabilities\n",
    "    new_p = new_p / np.sum(new_p)\n",
    "    \n",
    "    return new_mu, new_sig, new_p"
   ]
  },
  {
   "cell_type": "code",
   "execution_count": 6,
   "metadata": {
    "collapsed": true
   },
   "outputs": [],
   "source": [
    "init_mu = np.array([150000, 330000]) / normalizer\n",
    "init_sig = np.array([40000, 100000]) / normalizer\n",
    "init_p = np.array([.6, .4])"
   ]
  },
  {
   "cell_type": "code",
   "execution_count": 7,
   "metadata": {
    "collapsed": true
   },
   "outputs": [],
   "source": [
    "def make_graph(mu, sig, p):\n",
    "    x_plt = np.linspace(10e-3, np.max(df.TotalLandImpValue), 1000).reshape((1000, 1))\n",
    "    y_plt = np.sum(p * pdf(x_plt, mu, sig), axis=1) / np.sum(p)\n",
    "\n",
    "    plt.figure()\n",
    "    plt.xlabel('Home Price ($)')\n",
    "    plt.ylabel('Frequency')\n",
    "    plt.plot(normalizer * x_plt, y_plt)\n",
    "    hist, bins = np.histogram(normalizer * df.TotalLandImpValue)\n",
    "    (normalizer * df.TotalLandImpValue).hist(bins=50, weights = 50 * np.ones_like(df.index) / len(df.index))\n",
    "    plt.show()"
   ]
  },
  {
   "cell_type": "code",
   "execution_count": 8,
   "metadata": {},
   "outputs": [
    {
     "data": {
      "image/png": "[encoded data removed]",
      "text/plain": [
       "<Figure size 432x288 with 1 Axes>"
      ]
     },
     "metadata": {
      "needs_background": "light"
     },
     "output_type": "display_data"
    }
   ],
   "source": [
    "make_graph(init_mu, init_sig, init_p)"
   ]
  },
  {
   "cell_type": "code",
   "execution_count": 13,
   "metadata": {},
   "outputs": [
    {
     "name": "stdout",
     "output_type": "stream",
     "text": [
      "Num runs: 1298\n"
     ]
    }
   ],
   "source": [
    "mu, sig, p = init_mu, init_sig, init_p\n",
    "x = df.TotalLandImpValue.values\n",
    "x = x.reshape((len(x), 1))\n",
    "\n",
    "eps = 1e-8\n",
    "eps_avg = 5\n",
    "max_runs = int(1e5)\n",
    "\n",
    "loss = np.empty(max_runs)\n",
    "loss[:] = np.nan\n",
    "\n",
    "hist = [np.array([mu, sig, p])]\n",
    "\n",
    "for n in range(max_runs):\n",
    "    mu, sig, p = update(x, mu, sig, p)\n",
    "    \n",
    "    loss[n] = np.mean(-np.log(np.sum(p * pdf(x, mu, sig), axis=1)))\n",
    "    hist.append(np.array([mu, sig, p]))\n",
    "    \n",
    "    if n > eps_avg and \\\n",
    "       np.mean(np.log(loss[n-eps_avg:n]/loss[n-eps_avg+1:n+1])) < eps:\n",
    "        break\n",
    "        \n",
    "loss = loss[np.logical_not(np.isnan(loss))]\n",
    "print('Num runs:', len(hist) - 1)"
   ]
  },
  {
   "cell_type": "code",
   "execution_count": 14,
   "metadata": {},
   "outputs": [
    {
     "data": {
      "image/png": "[encoded data removed]",
      "text/plain": [
       "<Figure size 432x288 with 1 Axes>"
      ]
     },
     "metadata": {
      "needs_background": "light"
     },
     "output_type": "display_data"
    }
   ],
   "source": [
    "for i in np.linspace(0, len(hist) - 1, 25):\n",
    "    mu, sig, p = hist[int(i)]\n",
    "    make_graph(mu, sig, p)\n",
    "    time.sleep(.1)\n",
    "    clear_output(wait=True)"
   ]
  },
  {
   "cell_type": "code",
   "execution_count": 15,
   "metadata": {},
   "outputs": [
    {
     "name": "stdout",
     "output_type": "stream",
     "text": [
      "mu\t [0.67037904 1.47483388] \t [0.65095868 1.51168388]\n",
      "sig\t [0.17876774 0.44691936] \t [0.20706331 0.33354253]\n",
      "p\t [0.6 0.4] \t [0.59447885 0.40552115]\n"
     ]
    }
   ],
   "source": [
    "print('mu\\t', init_mu, '\\t', hist[-1][0])\n",
    "print('sig\\t', init_sig, '\\t', hist[-1][1])\n",
    "print('p\\t', init_p, '\\t', hist[-1][2])"
   ]
  },
  {
   "cell_type": "code",
   "execution_count": 16,
   "metadata": {},
   "outputs": [
    {
     "data": {
      "image/png": "[encoded data removed]",
      "text/plain": [
       "<Figure size 432x288 with 1 Axes>"
      ]
     },
     "metadata": {
      "needs_background": "light"
     },
     "output_type": "display_data"
    }
   ],
   "source": [
    "plt.figure()\n",
    "plt.plot(range(len(loss)), loss)\n",
    "plt.xlabel('Run #')\n",
    "plt.ylabel('Loss')\n",
    "plt.show()"
   ]
  },
  {
   "cell_type": "code",
   "execution_count": null,
   "metadata": {
    "collapsed": true
   },
   "outputs": [],
   "source": []
  },
  {
   "cell_type": "code",
   "execution_count": null,
   "metadata": {
    "collapsed": true
   },
   "outputs": [],
   "source": []
  }
 ],
 "metadata": {
  "kernelspec": {
   "display_name": "Python [conda root]",
   "language": "python",
   "name": "conda-root-py"
  },
  "language_info": {
   "codemirror_mode": {
    "name": "ipython",
    "version": 2
   },
   "file_extension": ".py",
   "mimetype": "text/x-python",
   "name": "python",
   "nbconvert_exporter": "python",
   "pygments_lexer": "ipython2",
   "version": "2.7.11"
  }
 },
 "nbformat": 4,
 "nbformat_minor": 2
}
