{
 "cells": [
  {
   "cell_type": "code",
   "execution_count": 1,
   "metadata": {},
   "outputs": [
    {
     "name": "stderr",
     "output_type": "stream",
     "text": [
      "Using TensorFlow backend.\n"
     ]
    }
   ],
   "source": [
    "import os\n",
    "from IPython.display import clear_output\n",
    "\n",
    "import numpy as np\n",
    "import pandas as pd\n",
    "from scipy.stats import norm\n",
    "import matplotlib.pyplot as plt\n",
    "\n",
    "import tensorflow as tf\n",
    "import keras.backend as K\n",
    "from keras.models import Sequential\n",
    "from keras.layers import Lambda, Dense, Dropout"
   ]
  },
  {
   "cell_type": "markdown",
   "metadata": {},
   "source": [
    "# Data Processing"
   ]
  },
  {
   "cell_type": "code",
   "execution_count": 2,
   "metadata": {},
   "outputs": [
    {
     "ename": "OSError",
     "evalue": "[Errno 2] No such file or directory: 'data/good_zipcodes'",
     "output_type": "error",
     "traceback": [
      "\u001b[0;31m---------------------------------------------------------------------------\u001b[0m",
      "\u001b[0;31mOSError\u001b[0m                                   Traceback (most recent call last)",
      "\u001b[0;32m<ipython-input-2-d92866ad857f>\u001b[0m in \u001b[0;36m<module>\u001b[0;34m()\u001b[0m\n\u001b[1;32m      6\u001b[0m \u001b[0mx_values\u001b[0m \u001b[0;34m=\u001b[0m \u001b[0mK\u001b[0m\u001b[0;34m.\u001b[0m\u001b[0mconstant\u001b[0m\u001b[0;34m(\u001b[0m\u001b[0mbatch_size\u001b[0m \u001b[0;34m*\u001b[0m \u001b[0;34m[\u001b[0m\u001b[0mlist\u001b[0m\u001b[0;34m(\u001b[0m\u001b[0mx\u001b[0m\u001b[0;34m)\u001b[0m\u001b[0;34m]\u001b[0m\u001b[0;34m)\u001b[0m\u001b[0;34m\u001b[0m\u001b[0m\n\u001b[1;32m      7\u001b[0m \u001b[0;34m\u001b[0m\u001b[0m\n\u001b[0;32m----> 8\u001b[0;31m \u001b[0mfiles\u001b[0m \u001b[0;34m=\u001b[0m \u001b[0mos\u001b[0m\u001b[0;34m.\u001b[0m\u001b[0mlistdir\u001b[0m\u001b[0;34m(\u001b[0m\u001b[0;34m'data/good_zipcodes'\u001b[0m\u001b[0;34m)\u001b[0m\u001b[0;34m\u001b[0m\u001b[0m\n\u001b[0m\u001b[1;32m      9\u001b[0m \u001b[0mf\u001b[0m \u001b[0;34m=\u001b[0m \u001b[0mnp\u001b[0m\u001b[0;34m.\u001b[0m\u001b[0mrandom\u001b[0m\u001b[0;34m.\u001b[0m\u001b[0mchoice\u001b[0m\u001b[0;34m(\u001b[0m\u001b[0mfiles\u001b[0m\u001b[0;34m)\u001b[0m\u001b[0;34m\u001b[0m\u001b[0m\n\u001b[1;32m     10\u001b[0m \u001b[0mdf\u001b[0m \u001b[0;34m=\u001b[0m \u001b[0mpd\u001b[0m\u001b[0;34m.\u001b[0m\u001b[0mread_csv\u001b[0m\u001b[0;34m(\u001b[0m\u001b[0;34m'data/good_zipcodes/'\u001b[0m \u001b[0;34m+\u001b[0m \u001b[0mf\u001b[0m\u001b[0;34m)\u001b[0m\u001b[0;34m\u001b[0m\u001b[0m\n",
      "\u001b[0;31mOSError\u001b[0m: [Errno 2] No such file or directory: 'data/good_zipcodes'"
     ]
    }
   ],
   "source": [
    "# Data generation options.\n",
    "num_points = 31\n",
    "batch_size = 256\n",
    "\n",
    "x = np.linspace(0, 500000, num_points)\n",
    "x_values = K.constant(batch_size * [list(x)])\n",
    "\n",
    "files = os.listdir('data/good_zipcodes')\n",
    "f = np.random.choice(files)\n",
    "df = pd.read_csv('data/good_zipcodes/' + f)\n",
    "\n",
    "df.TotalLandImpValue[df.TotalLandImpValue < 1]  = 1"
   ]
  },
  {
   "cell_type": "code",
   "execution_count": 3,
   "metadata": {
    "collapsed": true
   },
   "outputs": [],
   "source": [
    "def generate_data(batch_size=batch_size, num_inputs=10):\n",
    "    x = np.random.uniform(-1, 1, (batch_size, num_inputs))\n",
    "    y = np.stack([df.TotalLandImpValue.sample(batch_size).values] * num_points).T\n",
    "    \n",
    "    return x, y"
   ]
  },
  {
   "cell_type": "markdown",
   "metadata": {},
   "source": [
    "# Custom Layers and Losses"
   ]
  },
  {
   "cell_type": "code",
   "execution_count": 4,
   "metadata": {
    "collapsed": true
   },
   "outputs": [],
   "source": [
    "def normalize(yPred, x, min_p=10e-3, max_p=10e3, percent_observed=1):\n",
    "    '''\n",
    "    This should be the final layer of the neural net. An activation\n",
    "    layer should not be used before this function. Generally choose\n",
    "    so log(min_p) = -log(max_p).\n",
    "    \n",
    "    y - The input to the layer; it can take on any real value.\n",
    "    \n",
    "    min_p - The minimum probability estimate at any point before\n",
    "        normalization.\n",
    "            \n",
    "    max_p - The maximum probability estimate at any point after\n",
    "        normalization.\n",
    "            \n",
    "    percent_observed - The estimated percentage of values\n",
    "        contained within the range of the distribution the model is\n",
    "        training on. This is used to account for the tails of the\n",
    "        distribution being trimmed off for training purposes.\n",
    "    '''\n",
    "    \n",
    "    # Sigmoid activation to fit input into range (min_p, max_p).\n",
    "    y = K.sigmoid(yPred) * (max_p - min_p) + min_p\n",
    "    \n",
    "    # Normalize y values by the integral.\n",
    "    integral = K.sum((y[:, 1:] + y[:, :-1]) * (x[:, 1:] - x[:, :-1])  / 2,\n",
    "                     axis=1, keepdims=True)\n",
    "    y = percent_observed * y / integral\n",
    "    \n",
    "    return y\n"
   ]
  },
  {
   "cell_type": "code",
   "execution_count": 5,
   "metadata": {
    "collapsed": true
   },
   "outputs": [],
   "source": [
    "def loss_function(yTrue, yPred, x, p_min=10e-6):\n",
    "    '''\n",
    "    yPred - Parameters defining a piecewise linear PDF. The parameters are\n",
    "            may be thought of as two vectors x and y. x_i will define the\n",
    "            distance between the ith and (i-1)th points of the piecewise\n",
    "            linear. y_i will define the value of the ith point. Both x and\n",
    "            y are normalized; x relative to the minimum and maximum values\n",
    "            for the distribution and y so that the PDF integrates to some\n",
    "            constant less than or equal to one. The first value of x is\n",
    "            assumed to be zero.\n",
    "            \n",
    "    yTrue - A sample drawn from the distribution we are trying to predict.\n",
    "            Only the first index is actually used.\n",
    "    \n",
    "    x_values - A tensor constant describing the x-values of the points\n",
    "               defining the piecewise function.\n",
    "    \n",
    "    delta_x_min - The minimum difference between adjacent x values.\n",
    "    \n",
    "    p_min - The minimum probability of any point. This should only matter\n",
    "            in cases where float errors get us to 0 probability during\n",
    "            some training case. The algorithm should never reasonably\n",
    "            predict this given that there is a y_min.\n",
    "    '''\n",
    "    \n",
    "    y = yPred\n",
    "    sample = yTrue[:, :1]\n",
    "\n",
    "    # Find the left index of the point the sample occurred at.\n",
    "    loc_mask = K.cast(sample - x[:, :-1] > 0, 'float32') \\\n",
    "                * K.cast(x[:, 1:] - sample >= 0, 'float32')\n",
    "    \n",
    "    # Calculate the probability of the sample.\n",
    "    delta_y = (K.sum(loc_mask * y[:, 1:], axis=1) \\\n",
    "               - K.sum(loc_mask * y[:, :-1], axis=1))\n",
    "    delta_x = (K.sum(loc_mask * x[:, 1:], axis=1) \\\n",
    "               - K.sum(loc_mask * x[:, :-1], axis=1))\n",
    "    delta_x = K.maximum(delta_x, 1)\n",
    "\n",
    "    slope = delta_y / delta_x\n",
    "\n",
    "    p = K.sum(loc_mask * y[:, :-1], axis=1) \\\n",
    "        + slope * (sample - K.sum(loc_mask * x[:, :-1], axis=1))\n",
    "    p = K.maximum(p, p_min)\n",
    "\n",
    "    return -K.mean(K.log(p))"
   ]
  },
  {
   "cell_type": "code",
   "execution_count": 6,
   "metadata": {
    "collapsed": true
   },
   "outputs": [],
   "source": [
    "# _, yTrue = generate_data()\n",
    "# yPred = np.random.uniform(-10, 10, (batch_size, num_points))\n",
    "# print(yPred.shape, yTrue.shape)\n",
    "\n",
    "# yTrue = K.constant(yTrue)\n",
    "# yPred = normalize(K.constant(yPred), x_values)\n",
    "\n",
    "# delta_x, loc_mask = loss_function(yTrue, yPred, x_values)\n",
    "# np.min(K.eval(delta_x)), np.sum(K.eval(loc_mask))"
   ]
  },
  {
   "cell_type": "markdown",
   "metadata": {},
   "source": [
    "# Fitting"
   ]
  },
  {
   "cell_type": "code",
   "execution_count": 7,
   "metadata": {
    "collapsed": true,
    "scrolled": false
   },
   "outputs": [],
   "source": [
    "model = Sequential()\n",
    "\n",
    "x, _ = generate_data(batch_size=1)\n",
    "model.add(Dense(20, activation='relu', input_shape=x.shape[1:]))\n",
    "model.add(Dropout(.2))\n",
    "\n",
    "model.add(Dense(20, activation='relu'))\n",
    "model.add(Dropout(.2))\n",
    "\n",
    "model.add(Dense(num_points))\n",
    "model.add(Lambda(lambda y:\n",
    "                 normalize(y, x_values, min_p=10e-3, max_p=10e3)))\n",
    "\n",
    "loss = lambda yTrue, yPred: loss_function(yTrue, yPred, x_values)\n",
    "model.compile(optimizer='rmsprop', loss=loss)"
   ]
  },
  {
   "cell_type": "code",
   "execution_count": 12,
   "metadata": {},
   "outputs": [
    {
     "name": "stdout",
     "output_type": "stream",
     "text": [
      "9900 11.047671\n"
     ]
    }
   ],
   "source": [
    "num_runs = 10**4\n",
    "loss = []\n",
    "for n in range(num_runs):\n",
    "    if n % 100 == 0:\n",
    "        clear_output(wait=True)\n",
    "        print(n, np.mean(loss))\n",
    "    x, y = generate_data()\n",
    "    loss.append(model.train_on_batch(x, y))\n",
    "    \n",
    "    if np.isnan(loss[-1]):\n",
    "        break\n",
    "    "
   ]
  },
  {
   "cell_type": "code",
   "execution_count": 13,
   "metadata": {},
   "outputs": [
    {
     "data": {
      "image/png": "[encoded data removed]",
      "text/plain": [
       "<Figure size 432x288 with 1 Axes>"
      ]
     },
     "metadata": {
      "needs_background": "light"
     },
     "output_type": "display_data"
    }
   ],
   "source": [
    "x, y = generate_data()\n",
    "pred = model.predict_on_batch(x)\n",
    "\n",
    "plt.figure()\n",
    "for i in range(100):\n",
    "    plt.plot(K.eval(x_values)[i, :], pred[i, :])\n",
    "plt.hist(df.TotalLandImpValue, bins=50, density=True)\n",
    "plt.plot()\n",
    "plt.show()"
   ]
  },
  {
   "cell_type": "code",
   "execution_count": 14,
   "metadata": {},
   "outputs": [
    {
     "data": {
      "text/plain": [
       "<keras.engine.sequential.Sequential at 0x1703e743c88>"
      ]
     },
     "execution_count": 14,
     "metadata": {},
     "output_type": "execute_result"
    }
   ],
   "source": [
    "model"
   ]
  },
  {
   "cell_type": "code",
   "execution_count": null,
   "metadata": {
    "collapsed": true
   },
   "outputs": [],
   "source": []
  }
 ],
 "metadata": {
  "kernelspec": {
   "display_name": "Python [conda root]",
   "language": "python",
   "name": "conda-root-py"
  },
  "language_info": {
   "codemirror_mode": {
    "name": "ipython",
    "version": 2
   },
   "file_extension": ".py",
   "mimetype": "text/x-python",
   "name": "python",
   "nbconvert_exporter": "python",
   "pygments_lexer": "ipython2",
   "version": "2.7.11"
  }
 },
 "nbformat": 4,
 "nbformat_minor": 2
}
